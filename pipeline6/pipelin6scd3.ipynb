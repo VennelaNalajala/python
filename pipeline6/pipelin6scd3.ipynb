{
 "cells": [
  {
   "cell_type": "code",
   "execution_count": 1,
   "id": "6847042b",
   "metadata": {},
   "outputs": [],
   "source": [
    "import pandas as pd\n",
    "from sqlalchemy import create_engine\n",
    "from sqlalchemy.sql import text"
   ]
  },
  {
   "cell_type": "code",
   "execution_count": 2,
   "id": "889c2edd",
   "metadata": {},
   "outputs": [],
   "source": [
    "engine=create_engine(\"mssql+pyodbc://DESKTOP-NFGVTDJ\\SQLEXPRESS/customersinformation?driver=ODBC+Driver+17+for+sql+server&trusted_connection=yes\")"
   ]
  },
  {
   "cell_type": "code",
   "execution_count": 3,
   "id": "cc9b19c3",
   "metadata": {},
   "outputs": [],
   "source": [
    "a='''\n",
    "create table  customers_informate (\n",
    "        id int primary key,\n",
    "        employeeid int,\n",
    "        name varchar(100),\n",
    "        email varchar(100),\n",
    "        age int,\n",
    "        city varchar(100)  \n",
    "    )\n",
    "    '''"
   ]
  },
  {
   "cell_type": "code",
   "execution_count": null,
   "id": "e2ed43cc",
   "metadata": {},
   "outputs": [],
   "source": [
    "with engine.connect() as conn:\n",
    "    conn.execute(text(a))\n",
    "    conn.commit()"
   ]
  },
  {
   "cell_type": "code",
   "execution_count": 7,
   "id": "3a9fcf4d",
   "metadata": {},
   "outputs": [],
   "source": [
    "ab='''\n",
    "    insert into customers_informate (id,employeeid,name,email,age,city) values \n",
    "     (1,1,'ramesh','ramesh@ex.com',14,'hyderabad'),\n",
    "     (2,2,'ramu','ramu@ex.com',20,'mumbai'),\n",
    "     (3,3,'raghu','raghu@ex.com',25,'sagar'),\n",
    "     (4,4,'rahul','rahul@ex.com',26,'srinagar'),\n",
    "     (5,5,'ram','ram@ex.com',27,'jammu')\n",
    "    '''"
   ]
  },
  {
   "cell_type": "code",
   "execution_count": 8,
   "id": "be441c3a",
   "metadata": {},
   "outputs": [],
   "source": [
    "with engine.connect() as conn:\n",
    "    conn.execute(text(ab))\n",
    "    conn.commit()"
   ]
  },
  {
   "cell_type": "code",
   "execution_count": 15,
   "id": "04de9a08",
   "metadata": {},
   "outputs": [],
   "source": [
    "with engine.connect() as conn:\n",
    "    conn.execute(text('''alter table customers_informate add previousemail varchar(100)'''))\n",
    "    conn.commit()  "
   ]
  },
  {
   "cell_type": "code",
   "execution_count": 16,
   "id": "42faa44d",
   "metadata": {},
   "outputs": [],
   "source": [
    "with engine.connect() as conn:\n",
    "    conn.execute(text('''alter table customers_informate add previouscity varchar(100)'''))\n",
    "    conn.commit()\n",
    "     "
   ]
  },
  {
   "cell_type": "code",
   "execution_count": 17,
   "id": "7dc887cc",
   "metadata": {},
   "outputs": [],
   "source": [
    "with engine.connect() as conn:\n",
    "    conn.execute(text('''update customers_informate  set previousemail=email,previouscity=city where name='ramesh' '''))\n",
    "    conn.commit()"
   ]
  },
  {
   "cell_type": "code",
   "execution_count": 18,
   "id": "944111f2",
   "metadata": {},
   "outputs": [],
   "source": [
    "with engine.connect() as conn:\n",
    "    conn.execute(text('''update customers_informate  set email='ramesh@example.com',city='orissa' where name='ramesh' '''))\n",
    "    conn.commit()"
   ]
  },
  {
   "cell_type": "code",
   "execution_count": 19,
   "id": "84ce8c06",
   "metadata": {},
   "outputs": [
    {
     "data": {
      "text/html": [
       "<div>\n",
       "<style scoped>\n",
       "    .dataframe tbody tr th:only-of-type {\n",
       "        vertical-align: middle;\n",
       "    }\n",
       "\n",
       "    .dataframe tbody tr th {\n",
       "        vertical-align: top;\n",
       "    }\n",
       "\n",
       "    .dataframe thead th {\n",
       "        text-align: right;\n",
       "    }\n",
       "</style>\n",
       "<table border=\"1\" class=\"dataframe\">\n",
       "  <thead>\n",
       "    <tr style=\"text-align: right;\">\n",
       "      <th></th>\n",
       "      <th>id</th>\n",
       "      <th>employeeid</th>\n",
       "      <th>name</th>\n",
       "      <th>email</th>\n",
       "      <th>age</th>\n",
       "      <th>city</th>\n",
       "      <th>previousemail</th>\n",
       "      <th>previouscity</th>\n",
       "    </tr>\n",
       "  </thead>\n",
       "  <tbody>\n",
       "    <tr>\n",
       "      <th>0</th>\n",
       "      <td>1</td>\n",
       "      <td>1</td>\n",
       "      <td>ramesh</td>\n",
       "      <td>ramesh@example.com</td>\n",
       "      <td>14</td>\n",
       "      <td>orissa</td>\n",
       "      <td>ramesh@ex.com</td>\n",
       "      <td>hyderabad</td>\n",
       "    </tr>\n",
       "    <tr>\n",
       "      <th>1</th>\n",
       "      <td>2</td>\n",
       "      <td>2</td>\n",
       "      <td>ramu</td>\n",
       "      <td>ramu@ex.com</td>\n",
       "      <td>20</td>\n",
       "      <td>mumbai</td>\n",
       "      <td>None</td>\n",
       "      <td>None</td>\n",
       "    </tr>\n",
       "    <tr>\n",
       "      <th>2</th>\n",
       "      <td>3</td>\n",
       "      <td>3</td>\n",
       "      <td>raghu</td>\n",
       "      <td>raghu@ex.com</td>\n",
       "      <td>25</td>\n",
       "      <td>sagar</td>\n",
       "      <td>None</td>\n",
       "      <td>None</td>\n",
       "    </tr>\n",
       "    <tr>\n",
       "      <th>3</th>\n",
       "      <td>4</td>\n",
       "      <td>4</td>\n",
       "      <td>rahul</td>\n",
       "      <td>rahul@ex.com</td>\n",
       "      <td>26</td>\n",
       "      <td>srinagar</td>\n",
       "      <td>None</td>\n",
       "      <td>None</td>\n",
       "    </tr>\n",
       "    <tr>\n",
       "      <th>4</th>\n",
       "      <td>5</td>\n",
       "      <td>5</td>\n",
       "      <td>ram</td>\n",
       "      <td>ram@ex.com</td>\n",
       "      <td>27</td>\n",
       "      <td>jammu</td>\n",
       "      <td>None</td>\n",
       "      <td>None</td>\n",
       "    </tr>\n",
       "  </tbody>\n",
       "</table>\n",
       "</div>"
      ],
      "text/plain": [
       "   id  employeeid    name               email  age      city  previousemail  \\\n",
       "0   1           1  ramesh  ramesh@example.com   14    orissa  ramesh@ex.com   \n",
       "1   2           2    ramu         ramu@ex.com   20    mumbai           None   \n",
       "2   3           3   raghu        raghu@ex.com   25     sagar           None   \n",
       "3   4           4   rahul        rahul@ex.com   26  srinagar           None   \n",
       "4   5           5     ram          ram@ex.com   27     jammu           None   \n",
       "\n",
       "  previouscity  \n",
       "0    hyderabad  \n",
       "1         None  \n",
       "2         None  \n",
       "3         None  \n",
       "4         None  "
      ]
     },
     "execution_count": 19,
     "metadata": {},
     "output_type": "execute_result"
    }
   ],
   "source": [
    "pd.read_sql('select * from customers_informate',engine)"
   ]
  }
 ],
 "metadata": {
  "kernelspec": {
   "display_name": "Python 3",
   "language": "python",
   "name": "python3"
  },
  "language_info": {
   "codemirror_mode": {
    "name": "ipython",
    "version": 3
   },
   "file_extension": ".py",
   "mimetype": "text/x-python",
   "name": "python",
   "nbconvert_exporter": "python",
   "pygments_lexer": "ipython3",
   "version": "3.10.11"
  }
 },
 "nbformat": 4,
 "nbformat_minor": 5
}
