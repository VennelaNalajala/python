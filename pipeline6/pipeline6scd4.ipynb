{
 "cells": [
  {
   "cell_type": "code",
   "execution_count": 1,
   "id": "82c77fed",
   "metadata": {},
   "outputs": [],
   "source": [
    "import pandas as pd\n",
    "from sqlalchemy import create_engine\n",
    "from sqlalchemy.sql import text"
   ]
  },
  {
   "cell_type": "code",
   "execution_count": 2,
   "id": "ff39d308",
   "metadata": {},
   "outputs": [],
   "source": [
    "engine=create_engine(\"mssql+pyodbc://DESKTOP-NFGVTDJ\\SQLEXPRESS/customersinformation?driver=ODBC+Driver+17+for+sql+server&trusted_connection=yes\")"
   ]
  },
  {
   "cell_type": "code",
   "execution_count": 3,
   "id": "761e5870",
   "metadata": {},
   "outputs": [],
   "source": [
    "history='''\n",
    "create table historyy (\n",
    "        id int primary key,\n",
    "        employeeid int,\n",
    "        name varchar(100),\n",
    "        email varchar(100),\n",
    "        age int,\n",
    "        city varchar(100),\n",
    "        startdate date,\n",
    "        enddate date null,\n",
    "        currentin varchar(20),\n",
    "    )\n",
    "    '''"
   ]
  },
  {
   "cell_type": "code",
   "execution_count": 4,
   "id": "85c85e7e",
   "metadata": {},
   "outputs": [],
   "source": [
    "with engine.connect() as conn:\n",
    "    conn.execute(text(history))\n",
    "    conn.commit()"
   ]
  },
  {
   "cell_type": "code",
   "execution_count": 5,
   "id": "f1f7af9b",
   "metadata": {},
   "outputs": [],
   "source": [
    "hist='''\n",
    "    insert into historyy(id,employeeid,name,email,age,city,startdate,enddate,currentin) values \n",
    "     (1,1,'ramesh','ramesh@ex.com',14,'orissa','2018-02-23','2025-03-22','no')\n",
    "    '''"
   ]
  },
  {
   "cell_type": "code",
   "execution_count": 6,
   "id": "61042fef",
   "metadata": {},
   "outputs": [],
   "source": [
    "with engine.connect() as conn:\n",
    "    conn.execute(text(hist))\n",
    "    conn.commit()"
   ]
  },
  {
   "cell_type": "code",
   "execution_count": 7,
   "id": "8992f7ad",
   "metadata": {},
   "outputs": [],
   "source": [
    "ab='''\n",
    "drop table if exists current_info;\n",
    "create table  current_info(\n",
    "        id int primary key,\n",
    "        employeeid int,\n",
    "        name varchar(100),\n",
    "        email varchar(100),\n",
    "        age int,\n",
    "        city varchar(100),\n",
    "        startdate date,\n",
    "    )\n",
    "    '''"
   ]
  },
  {
   "cell_type": "code",
   "execution_count": 8,
   "id": "5acc3f85",
   "metadata": {},
   "outputs": [],
   "source": [
    "with engine.connect() as conn:\n",
    "    conn.execute(text(ab))\n",
    "    conn.commit()"
   ]
  },
  {
   "cell_type": "code",
   "execution_count": 9,
   "id": "7ee72a21",
   "metadata": {},
   "outputs": [],
   "source": [
    "ba='''\n",
    "    insert into current_info(id,employeeid,name,email,age,city,startdate) values \n",
    "     (1,1,'ramesh','ramesh@ex.com',14,'hyderabad','2025-02-23'),\n",
    "     (2,2,'ramu','ramu@ex.com',20,'mumbai','2023-02-22'),\n",
    "     (3,3,'raghu','raghu@ex.com',25,'sagar','2023-02-22'),\n",
    "     (4,4,'rahul','rahul@ex.com',26,'srinagar','2023-02-22'),\n",
    "     (5,5,'ram','ram@ex.com',27,'jammu','2023-02-22')\n",
    "    '''"
   ]
  },
  {
   "cell_type": "code",
   "execution_count": 10,
   "id": "ce460078",
   "metadata": {},
   "outputs": [],
   "source": [
    "with engine.connect() as conn:\n",
    "    conn.execute(text(ba))\n",
    "    conn.commit()"
   ]
  },
  {
   "cell_type": "code",
   "execution_count": 11,
   "id": "a4f71b35",
   "metadata": {},
   "outputs": [
    {
     "data": {
      "text/html": [
       "<div>\n",
       "<style scoped>\n",
       "    .dataframe tbody tr th:only-of-type {\n",
       "        vertical-align: middle;\n",
       "    }\n",
       "\n",
       "    .dataframe tbody tr th {\n",
       "        vertical-align: top;\n",
       "    }\n",
       "\n",
       "    .dataframe thead th {\n",
       "        text-align: right;\n",
       "    }\n",
       "</style>\n",
       "<table border=\"1\" class=\"dataframe\">\n",
       "  <thead>\n",
       "    <tr style=\"text-align: right;\">\n",
       "      <th></th>\n",
       "      <th>id</th>\n",
       "      <th>employeeid</th>\n",
       "      <th>name</th>\n",
       "      <th>email</th>\n",
       "      <th>age</th>\n",
       "      <th>city</th>\n",
       "      <th>startdate</th>\n",
       "    </tr>\n",
       "  </thead>\n",
       "  <tbody>\n",
       "    <tr>\n",
       "      <th>0</th>\n",
       "      <td>1</td>\n",
       "      <td>1</td>\n",
       "      <td>ramesh</td>\n",
       "      <td>ramesh@ex.com</td>\n",
       "      <td>14</td>\n",
       "      <td>hyderabad</td>\n",
       "      <td>2025-02-23</td>\n",
       "    </tr>\n",
       "    <tr>\n",
       "      <th>1</th>\n",
       "      <td>2</td>\n",
       "      <td>2</td>\n",
       "      <td>ramu</td>\n",
       "      <td>ramu@ex.com</td>\n",
       "      <td>20</td>\n",
       "      <td>mumbai</td>\n",
       "      <td>2023-02-22</td>\n",
       "    </tr>\n",
       "    <tr>\n",
       "      <th>2</th>\n",
       "      <td>3</td>\n",
       "      <td>3</td>\n",
       "      <td>raghu</td>\n",
       "      <td>raghu@ex.com</td>\n",
       "      <td>25</td>\n",
       "      <td>sagar</td>\n",
       "      <td>2023-02-22</td>\n",
       "    </tr>\n",
       "    <tr>\n",
       "      <th>3</th>\n",
       "      <td>4</td>\n",
       "      <td>4</td>\n",
       "      <td>rahul</td>\n",
       "      <td>rahul@ex.com</td>\n",
       "      <td>26</td>\n",
       "      <td>srinagar</td>\n",
       "      <td>2023-02-22</td>\n",
       "    </tr>\n",
       "    <tr>\n",
       "      <th>4</th>\n",
       "      <td>5</td>\n",
       "      <td>5</td>\n",
       "      <td>ram</td>\n",
       "      <td>ram@ex.com</td>\n",
       "      <td>27</td>\n",
       "      <td>jammu</td>\n",
       "      <td>2023-02-22</td>\n",
       "    </tr>\n",
       "  </tbody>\n",
       "</table>\n",
       "</div>"
      ],
      "text/plain": [
       "   id  employeeid    name          email  age       city   startdate\n",
       "0   1           1  ramesh  ramesh@ex.com   14  hyderabad  2025-02-23\n",
       "1   2           2    ramu    ramu@ex.com   20     mumbai  2023-02-22\n",
       "2   3           3   raghu   raghu@ex.com   25      sagar  2023-02-22\n",
       "3   4           4   rahul   rahul@ex.com   26   srinagar  2023-02-22\n",
       "4   5           5     ram     ram@ex.com   27      jammu  2023-02-22"
      ]
     },
     "execution_count": 11,
     "metadata": {},
     "output_type": "execute_result"
    }
   ],
   "source": [
    "pd.read_sql('select * from current_info',engine)"
   ]
  },
  {
   "cell_type": "code",
   "execution_count": 12,
   "id": "44b9278d",
   "metadata": {},
   "outputs": [
    {
     "data": {
      "text/html": [
       "<div>\n",
       "<style scoped>\n",
       "    .dataframe tbody tr th:only-of-type {\n",
       "        vertical-align: middle;\n",
       "    }\n",
       "\n",
       "    .dataframe tbody tr th {\n",
       "        vertical-align: top;\n",
       "    }\n",
       "\n",
       "    .dataframe thead th {\n",
       "        text-align: right;\n",
       "    }\n",
       "</style>\n",
       "<table border=\"1\" class=\"dataframe\">\n",
       "  <thead>\n",
       "    <tr style=\"text-align: right;\">\n",
       "      <th></th>\n",
       "      <th>id</th>\n",
       "      <th>employeeid</th>\n",
       "      <th>name</th>\n",
       "      <th>email</th>\n",
       "      <th>age</th>\n",
       "      <th>city</th>\n",
       "      <th>startdate</th>\n",
       "      <th>enddate</th>\n",
       "      <th>currentin</th>\n",
       "    </tr>\n",
       "  </thead>\n",
       "  <tbody>\n",
       "    <tr>\n",
       "      <th>0</th>\n",
       "      <td>1</td>\n",
       "      <td>1</td>\n",
       "      <td>ramesh</td>\n",
       "      <td>ramesh@ex.com</td>\n",
       "      <td>14</td>\n",
       "      <td>orissa</td>\n",
       "      <td>2018-02-23</td>\n",
       "      <td>2025-03-22</td>\n",
       "      <td>no</td>\n",
       "    </tr>\n",
       "  </tbody>\n",
       "</table>\n",
       "</div>"
      ],
      "text/plain": [
       "   id  employeeid    name          email  age    city   startdate     enddate  \\\n",
       "0   1           1  ramesh  ramesh@ex.com   14  orissa  2018-02-23  2025-03-22   \n",
       "\n",
       "  currentin  \n",
       "0        no  "
      ]
     },
     "execution_count": 12,
     "metadata": {},
     "output_type": "execute_result"
    }
   ],
   "source": [
    "pd.read_sql('select * from historyy',engine)"
   ]
  }
 ],
 "metadata": {
  "kernelspec": {
   "display_name": "Python 3",
   "language": "python",
   "name": "python3"
  },
  "language_info": {
   "codemirror_mode": {
    "name": "ipython",
    "version": 3
   },
   "file_extension": ".py",
   "mimetype": "text/x-python",
   "name": "python",
   "nbconvert_exporter": "python",
   "pygments_lexer": "ipython3",
   "version": "3.10.11"
  }
 },
 "nbformat": 4,
 "nbformat_minor": 5
}
